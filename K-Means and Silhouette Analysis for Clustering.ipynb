{
 "cells": [
  {
   "cell_type": "markdown",
   "metadata": {},
   "source": [
    "K-Means and Silhouette Analysis for Clustering"
   ]
  },
  {
   "cell_type": "markdown",
   "metadata": {},
   "source": [
    "For any NBA player, the number of points he scored per game is arguably the most significant contribution he can do for his team in the NBA, even though it is not the only indicator of how valuable a player is for the team. The player's salary is another important factor that represents the value of the player in the market overall. In this project, we investigate whether we can create a segmentation for players based on the points they scored and their corresponding salaries for the 2016-2017 NBA season. We use the K-Means algorithm and Silhouette Analysis in order to do the clustering."
   ]
  },
  {
   "cell_type": "code",
   "execution_count": 1,
   "metadata": {},
   "outputs": [],
   "source": [
    "import numpy as np \n",
    "import pandas as pd \n",
    "import matplotlib.pyplot as plt \n",
    "import seaborn as sns\n",
    "%matplotlib inline\n",
    "from sklearn.cluster import KMeans\n",
    "from sklearn.metrics import silhouette_samples, silhouette_score"
   ]
  },
  {
   "cell_type": "code",
   "execution_count": 2,
   "metadata": {},
   "outputs": [],
   "source": [
    "df = pd.read_csv('nba_2016_2017_100.csv')"
   ]
  },
  {
   "cell_type": "code",
   "execution_count": 3,
   "metadata": {},
   "outputs": [
    {
     "data": {
      "text/html": [
       "<div>\n",
       "<style scoped>\n",
       "    .dataframe tbody tr th:only-of-type {\n",
       "        vertical-align: middle;\n",
       "    }\n",
       "\n",
       "    .dataframe tbody tr th {\n",
       "        vertical-align: top;\n",
       "    }\n",
       "\n",
       "    .dataframe thead th {\n",
       "        text-align: right;\n",
       "    }\n",
       "</style>\n",
       "<table border=\"1\" class=\"dataframe\">\n",
       "  <thead>\n",
       "    <tr style=\"text-align: right;\">\n",
       "      <th></th>\n",
       "      <th>PLAYER_ID</th>\n",
       "      <th>PLAYER_NAME</th>\n",
       "      <th>TEAM_ID</th>\n",
       "      <th>TEAM_ABBREVIATION</th>\n",
       "      <th>AGE</th>\n",
       "      <th>GP</th>\n",
       "      <th>W</th>\n",
       "      <th>L</th>\n",
       "      <th>W_PCT</th>\n",
       "      <th>MIN</th>\n",
       "      <th>...</th>\n",
       "      <th>FGA_PG_RANK</th>\n",
       "      <th>FG_PCT_RANK</th>\n",
       "      <th>CFID</th>\n",
       "      <th>CFPARAMS</th>\n",
       "      <th>WIKIPEDIA_HANDLE</th>\n",
       "      <th>TWITTER_HANDLE</th>\n",
       "      <th>SALARY_MILLIONS</th>\n",
       "      <th>PTS</th>\n",
       "      <th>ACTIVE_TWITTER_LAST_YEAR</th>\n",
       "      <th>TWITTER_FOLLOWER_COUNT_MILLIONS</th>\n",
       "    </tr>\n",
       "  </thead>\n",
       "  <tbody>\n",
       "    <tr>\n",
       "      <th>0</th>\n",
       "      <td>201566</td>\n",
       "      <td>Russell Westbrook</td>\n",
       "      <td>1610612760</td>\n",
       "      <td>OKC</td>\n",
       "      <td>28</td>\n",
       "      <td>81</td>\n",
       "      <td>46</td>\n",
       "      <td>35</td>\n",
       "      <td>0.568</td>\n",
       "      <td>34.6</td>\n",
       "      <td>...</td>\n",
       "      <td>1</td>\n",
       "      <td>293</td>\n",
       "      <td>5</td>\n",
       "      <td>2,015,661,610,612,760</td>\n",
       "      <td>Russell_Westbrook</td>\n",
       "      <td>russwest44</td>\n",
       "      <td>26.54</td>\n",
       "      <td>31.6</td>\n",
       "      <td>1</td>\n",
       "      <td>4.500</td>\n",
       "    </tr>\n",
       "    <tr>\n",
       "      <th>1</th>\n",
       "      <td>1626246</td>\n",
       "      <td>Boban Marjanovic</td>\n",
       "      <td>1610612765</td>\n",
       "      <td>DET</td>\n",
       "      <td>28</td>\n",
       "      <td>35</td>\n",
       "      <td>16</td>\n",
       "      <td>19</td>\n",
       "      <td>0.457</td>\n",
       "      <td>8.4</td>\n",
       "      <td>...</td>\n",
       "      <td>356</td>\n",
       "      <td>47</td>\n",
       "      <td>5</td>\n",
       "      <td>16,262,461,610,612,700</td>\n",
       "      <td>Boban_Marjanovi_</td>\n",
       "      <td>0</td>\n",
       "      <td>7.00</td>\n",
       "      <td>5.5</td>\n",
       "      <td>0</td>\n",
       "      <td>0.000</td>\n",
       "    </tr>\n",
       "    <tr>\n",
       "      <th>2</th>\n",
       "      <td>1627743</td>\n",
       "      <td>Demetrius Jackson</td>\n",
       "      <td>1610612738</td>\n",
       "      <td>BOS</td>\n",
       "      <td>22</td>\n",
       "      <td>5</td>\n",
       "      <td>1</td>\n",
       "      <td>4</td>\n",
       "      <td>0.200</td>\n",
       "      <td>3.4</td>\n",
       "      <td>...</td>\n",
       "      <td>480</td>\n",
       "      <td>3</td>\n",
       "      <td>5</td>\n",
       "      <td>16,277,431,610,612,700</td>\n",
       "      <td>Demetrius_Jackson</td>\n",
       "      <td>d_jay11</td>\n",
       "      <td>1.45</td>\n",
       "      <td>2.0</td>\n",
       "      <td>1</td>\n",
       "      <td>0.049</td>\n",
       "    </tr>\n",
       "    <tr>\n",
       "      <th>3</th>\n",
       "      <td>203076</td>\n",
       "      <td>Anthony Davis</td>\n",
       "      <td>1610612740</td>\n",
       "      <td>NOP</td>\n",
       "      <td>24</td>\n",
       "      <td>75</td>\n",
       "      <td>31</td>\n",
       "      <td>44</td>\n",
       "      <td>0.413</td>\n",
       "      <td>36.1</td>\n",
       "      <td>...</td>\n",
       "      <td>3</td>\n",
       "      <td>95</td>\n",
       "      <td>5</td>\n",
       "      <td>2,030,761,610,612,740</td>\n",
       "      <td>Anthony_Davis_(basketball)</td>\n",
       "      <td>antdavis23</td>\n",
       "      <td>22.12</td>\n",
       "      <td>28.0</td>\n",
       "      <td>1</td>\n",
       "      <td>1.220</td>\n",
       "    </tr>\n",
       "    <tr>\n",
       "      <th>4</th>\n",
       "      <td>201935</td>\n",
       "      <td>James Harden</td>\n",
       "      <td>1610612745</td>\n",
       "      <td>HOU</td>\n",
       "      <td>27</td>\n",
       "      <td>81</td>\n",
       "      <td>54</td>\n",
       "      <td>27</td>\n",
       "      <td>0.667</td>\n",
       "      <td>36.4</td>\n",
       "      <td>...</td>\n",
       "      <td>9</td>\n",
       "      <td>253</td>\n",
       "      <td>5</td>\n",
       "      <td>2,019,351,610,612,740</td>\n",
       "      <td>James_Harden</td>\n",
       "      <td>jharden13</td>\n",
       "      <td>26.50</td>\n",
       "      <td>29.1</td>\n",
       "      <td>1</td>\n",
       "      <td>4.470</td>\n",
       "    </tr>\n",
       "  </tbody>\n",
       "</table>\n",
       "<p>5 rows × 63 columns</p>\n",
       "</div>"
      ],
      "text/plain": [
       "   PLAYER_ID        PLAYER_NAME     TEAM_ID TEAM_ABBREVIATION  AGE  GP   W  \\\n",
       "0     201566  Russell Westbrook  1610612760               OKC   28  81  46   \n",
       "1    1626246   Boban Marjanovic  1610612765               DET   28  35  16   \n",
       "2    1627743  Demetrius Jackson  1610612738               BOS   22   5   1   \n",
       "3     203076      Anthony Davis  1610612740               NOP   24  75  31   \n",
       "4     201935       James Harden  1610612745               HOU   27  81  54   \n",
       "\n",
       "    L  W_PCT   MIN  ...  FGA_PG_RANK  FG_PCT_RANK  CFID  \\\n",
       "0  35  0.568  34.6  ...            1          293     5   \n",
       "1  19  0.457   8.4  ...          356           47     5   \n",
       "2   4  0.200   3.4  ...          480            3     5   \n",
       "3  44  0.413  36.1  ...            3           95     5   \n",
       "4  27  0.667  36.4  ...            9          253     5   \n",
       "\n",
       "                 CFPARAMS            WIKIPEDIA_HANDLE  TWITTER_HANDLE  \\\n",
       "0   2,015,661,610,612,760           Russell_Westbrook      russwest44   \n",
       "1  16,262,461,610,612,700            Boban_Marjanovi_               0   \n",
       "2  16,277,431,610,612,700           Demetrius_Jackson         d_jay11   \n",
       "3   2,030,761,610,612,740  Anthony_Davis_(basketball)      antdavis23   \n",
       "4   2,019,351,610,612,740                James_Harden       jharden13   \n",
       "\n",
       "   SALARY_MILLIONS   PTS  ACTIVE_TWITTER_LAST_YEAR  \\\n",
       "0            26.54  31.6                         1   \n",
       "1             7.00   5.5                         0   \n",
       "2             1.45   2.0                         1   \n",
       "3            22.12  28.0                         1   \n",
       "4            26.50  29.1                         1   \n",
       "\n",
       "   TWITTER_FOLLOWER_COUNT_MILLIONS  \n",
       "0                            4.500  \n",
       "1                            0.000  \n",
       "2                            0.049  \n",
       "3                            1.220  \n",
       "4                            4.470  \n",
       "\n",
       "[5 rows x 63 columns]"
      ]
     },
     "execution_count": 3,
     "metadata": {},
     "output_type": "execute_result"
    }
   ],
   "source": [
    "df.head()"
   ]
  },
  {
   "cell_type": "code",
   "execution_count": 4,
   "metadata": {},
   "outputs": [
    {
     "data": {
      "text/html": [
       "<div>\n",
       "<style scoped>\n",
       "    .dataframe tbody tr th:only-of-type {\n",
       "        vertical-align: middle;\n",
       "    }\n",
       "\n",
       "    .dataframe tbody tr th {\n",
       "        vertical-align: top;\n",
       "    }\n",
       "\n",
       "    .dataframe thead th {\n",
       "        text-align: right;\n",
       "    }\n",
       "</style>\n",
       "<table border=\"1\" class=\"dataframe\">\n",
       "  <thead>\n",
       "    <tr style=\"text-align: right;\">\n",
       "      <th></th>\n",
       "      <th>PTS</th>\n",
       "      <th>SALARY_MILLIONS</th>\n",
       "    </tr>\n",
       "  </thead>\n",
       "  <tbody>\n",
       "    <tr>\n",
       "      <th>count</th>\n",
       "      <td>100.000000</td>\n",
       "      <td>100.000000</td>\n",
       "    </tr>\n",
       "    <tr>\n",
       "      <th>mean</th>\n",
       "      <td>15.174200</td>\n",
       "      <td>11.290120</td>\n",
       "    </tr>\n",
       "    <tr>\n",
       "      <th>std</th>\n",
       "      <td>7.319374</td>\n",
       "      <td>8.789342</td>\n",
       "    </tr>\n",
       "    <tr>\n",
       "      <th>min</th>\n",
       "      <td>1.500000</td>\n",
       "      <td>0.310000</td>\n",
       "    </tr>\n",
       "    <tr>\n",
       "      <th>25%</th>\n",
       "      <td>9.225000</td>\n",
       "      <td>2.842500</td>\n",
       "    </tr>\n",
       "    <tr>\n",
       "      <th>50%</th>\n",
       "      <td>14.550000</td>\n",
       "      <td>10.820000</td>\n",
       "    </tr>\n",
       "    <tr>\n",
       "      <th>75%</th>\n",
       "      <td>20.650000</td>\n",
       "      <td>18.400000</td>\n",
       "    </tr>\n",
       "    <tr>\n",
       "      <th>max</th>\n",
       "      <td>31.600000</td>\n",
       "      <td>30.960000</td>\n",
       "    </tr>\n",
       "  </tbody>\n",
       "</table>\n",
       "</div>"
      ],
      "text/plain": [
       "              PTS  SALARY_MILLIONS\n",
       "count  100.000000       100.000000\n",
       "mean    15.174200        11.290120\n",
       "std      7.319374         8.789342\n",
       "min      1.500000         0.310000\n",
       "25%      9.225000         2.842500\n",
       "50%     14.550000        10.820000\n",
       "75%     20.650000        18.400000\n",
       "max     31.600000        30.960000"
      ]
     },
     "execution_count": 4,
     "metadata": {},
     "output_type": "execute_result"
    }
   ],
   "source": [
    "df[['PLAYER_NAME','PTS','SALARY_MILLIONS']].describe()"
   ]
  },
  {
   "cell_type": "markdown",
   "metadata": {},
   "source": [
    "The descriptive statistics are given above. Let's see a scatter plot in order to have a better understanding."
   ]
  },
  {
   "cell_type": "code",
   "execution_count": 5,
   "metadata": {},
   "outputs": [],
   "source": [
    "Points=df.iloc[:, [60,59]]['PTS']\n",
    "Salary=df.iloc[:, [60,59]]['SALARY_MILLIONS']"
   ]
  },
  {
   "cell_type": "code",
   "execution_count": 6,
   "metadata": {},
   "outputs": [
    {
     "data": {
      "text/plain": [
       "Text(0, 0.5, 'Salary (in Millions)')"
      ]
     },
     "execution_count": 6,
     "metadata": {},
     "output_type": "execute_result"
    },
    {
     "data": {
      "image/png": "[encoded data removed]",
      "text/plain": [
       "<Figure size 432x288 with 1 Axes>"
      ]
     },
     "metadata": {
      "needs_background": "light"
     },
     "output_type": "display_data"
    }
   ],
   "source": [
    "plt.scatter(Points, Salary, color = 'blue')\n",
    "plt.xlabel('Points')\n",
    "plt.ylabel('Salary (in Millions)')"
   ]
  },
  {
   "cell_type": "markdown",
   "metadata": {},
   "source": [
    "K-Means Algorithm"
   ]
  },
  {
   "cell_type": "markdown",
   "metadata": {},
   "source": [
    "The first step in K-Means algorithm is to determine the number \"K\" for the optimal number of clusters. We are going to use the Elbow method in order to determine the best \"K\". "
   ]
  },
  {
   "cell_type": "code",
   "execution_count": 8,
   "metadata": {},
   "outputs": [
    {
     "data": {
      "text/plain": [
       "[12951.750378560006,\n",
       " 4845.283643489189,\n",
       " 3301.866045420346,\n",
       " 2490.425264668067,\n",
       " 1895.3178593412688,\n",
       " 1355.4417062514785,\n",
       " 1075.9820204151404,\n",
       " 951.4684585680985,\n",
       " 883.7443716992408,\n",
       " 760.2699193773448]"
      ]
     },
     "execution_count": 8,
     "metadata": {},
     "output_type": "execute_result"
    }
   ],
   "source": [
    "sse=[] #Sum of Squared Errors\n",
    "for i in range(1,11):\n",
    "    kmeans = KMeans(i, init='k-means++', random_state=0)\n",
    "    kmeans.fit(pd.concat([Points, Salary],axis=1))\n",
    "    sse.append(kmeans.inertia_)\n",
    "sse"
   ]
  },
  {
   "cell_type": "code",
   "execution_count": 9,
   "metadata": {},
   "outputs": [
    {
     "data": {
      "text/plain": [
       "Text(0, 0.5, 'Error Sum of Squares')"
      ]
     },
     "execution_count": 9,
     "metadata": {},
     "output_type": "execute_result"
    },
    {
     "data": {
      "image/png": "[encoded data removed]",
      "text/plain": [
       "<Figure size 432x288 with 1 Axes>"
      ]
     },
     "metadata": {
      "needs_background": "light"
     },
     "output_type": "display_data"
    }
   ],
   "source": [
    "plt.plot(range(1,11), sse, )\n",
    "plt.title('Elbow Method for K-Means', color = 'blue')\n",
    "plt.xlabel('K: Number of Clusters')\n",
    "plt.ylabel('Error Sum of Squares')"
   ]
  },
  {
   "cell_type": "markdown",
   "metadata": {},
   "source": [
    "The idea behind the Elbow Method is to choose the k value at which the Sum of Squared Errors decreases abruptly. In other words, we consider the \"joints\" in the graph that resemble an elbow shape. Based on this graph, an ideal number of K can be 2 or maybe 3. We will investigate both of them."
   ]
  },
  {
   "cell_type": "markdown",
   "metadata": {},
   "source": [
    "Two Clusters"
   ]
  },
  {
   "cell_type": "code",
   "execution_count": 10,
   "metadata": {},
   "outputs": [],
   "source": [
    "Model = KMeans(2, init='k-means++')\n",
    "k_means= Model.fit_predict(pd.concat([Points, Salary],axis=1))\n",
    "X=pd.concat([Points, Salary],axis=1)"
   ]
  },
  {
   "cell_type": "code",
   "execution_count": 11,
   "metadata": {},
   "outputs": [
    {
     "data": {
      "text/plain": [
       "<matplotlib.legend.Legend at 0x1e977b443a0>"
      ]
     },
     "execution_count": 11,
     "metadata": {},
     "output_type": "execute_result"
    },
    {
     "data": {
      "image/png": "[encoded data removed]",
      "text/plain": [
       "<Figure size 432x288 with 1 Axes>"
      ]
     },
     "metadata": {
      "needs_background": "light"
     },
     "output_type": "display_data"
    }
   ],
   "source": [
    "plt.scatter(X[k_means == 0]['PTS'], X[k_means == 0]['SALARY_MILLIONS'], c = 'orange', label = 'Cluster 1')\n",
    "plt.scatter(X[k_means == 1]['PTS'], X[k_means == 1]['SALARY_MILLIONS'], c = 'red', label = 'Cluster 2')\n",
    "plt.xlabel('Points')\n",
    "plt.ylabel('Salary')\n",
    "plt.legend()"
   ]
  },
  {
   "cell_type": "markdown",
   "metadata": {},
   "source": [
    "Three Clusters"
   ]
  },
  {
   "cell_type": "code",
   "execution_count": 12,
   "metadata": {},
   "outputs": [],
   "source": [
    "Model = KMeans(3, init='k-means++')\n",
    "k_means= Model.fit_predict(pd.concat([Points, Salary],axis=1))\n",
    "X=pd.concat([Points, Salary],axis=1)"
   ]
  },
  {
   "cell_type": "code",
   "execution_count": 13,
   "metadata": {},
   "outputs": [
    {
     "data": {
      "text/plain": [
       "<matplotlib.legend.Legend at 0x1e977bab4c0>"
      ]
     },
     "execution_count": 13,
     "metadata": {},
     "output_type": "execute_result"
    },
    {
     "data": {
      "image/png": "[encoded data removed]",
      "text/plain": [
       "<Figure size 432x288 with 1 Axes>"
      ]
     },
     "metadata": {
      "needs_background": "light"
     },
     "output_type": "display_data"
    }
   ],
   "source": [
    "plt.scatter(X[k_means == 0]['PTS'], X[k_means == 0]['SALARY_MILLIONS'], c = 'orange', label = 'Cluster 1')\n",
    "plt.scatter(X[k_means == 1]['PTS'], X[k_means == 1]['SALARY_MILLIONS'], c = 'red', label = 'Cluster 2')\n",
    "plt.scatter(X[k_means == 2]['PTS'], X[k_means == 2]['SALARY_MILLIONS'], c = 'black', label = 'Cluster 3')\n",
    "plt.xlabel('Points')\n",
    "plt.ylabel('Salary')\n",
    "plt.legend()"
   ]
  },
  {
   "cell_type": "markdown",
   "metadata": {},
   "source": [
    "When the joint is not very obvious in the Elbow Method, it is better to do Silhouette analysis."
   ]
  },
  {
   "cell_type": "markdown",
   "metadata": {},
   "source": [
    "Silhouette Analysis"
   ]
  },
  {
   "cell_type": "code",
   "execution_count": 44,
   "metadata": {},
   "outputs": [
    {
     "data": {
      "image/png": "[encoded data removed]",
      "text/plain": [
       "<Figure size 432x288 with 1 Axes>"
      ]
     },
     "metadata": {
      "needs_background": "light"
     },
     "output_type": "display_data"
    },
    {
     "data": {
      "image/png": "[encoded data removed]",
      "text/plain": [
       "<Figure size 432x288 with 1 Axes>"
      ]
     },
     "metadata": {
      "needs_background": "light"
     },
     "output_type": "display_data"
    },
    {
     "data": {
      "image/png": "[encoded data removed]",
      "text/plain": [
       "<Figure size 432x288 with 1 Axes>"
      ]
     },
     "metadata": {
      "needs_background": "light"
     },
     "output_type": "display_data"
    },
    {
     "data": {
      "image/png": "[encoded data removed]",
      "text/plain": [
       "<Figure size 432x288 with 1 Axes>"
      ]
     },
     "metadata": {
      "needs_background": "light"
     },
     "output_type": "display_data"
    }
   ],
   "source": [
    "X=pd.concat([Points, Salary],axis=1)\n",
    "\n",
    "for num in range(2,6):\n",
    "    Model = KMeans(num, init='k-means++')\n",
    "    kmeans = Model.fit_predict(X)\n",
    "    score = silhouette_score(X, kmeans)\n",
    "    values = silhouette_samples(X, kmeans)\n",
    "    fig = plt.subplots()\n",
    "    minimum = 0\n",
    "    for i in range(num):\n",
    "        SVI = \\\n",
    "            values[kmeans == i] #Silhouette Value of the current number of clusters\n",
    "        SVI.sort()\n",
    "        length = SVI.shape[0]\n",
    "        maximum = minimum + length\n",
    "        plt.fill_betweenx(np.arange(minimum, maximum), SVI)\n",
    "        minimum = maximum\n",
    "    plt.title(\"The silhouette Plot wit \"+str(num)+\" clusters\")\n",
    "    plt.xlabel(\"Silhouette Score\")\n",
    "    plt.axvline(x=score,color=\"black\")\n",
    "plt.show()"
   ]
  },
  {
   "cell_type": "code",
   "execution_count": 47,
   "metadata": {},
   "outputs": [
    {
     "name": "stdout",
     "output_type": "stream",
     "text": [
      "For 2 clusters, the average Silhouette values is equal to 0.52\n",
      "For 3 clusters, the average Silhouette values is equal to 0.42\n",
      "For 4 clusters, the average Silhouette values is equal to 0.45\n",
      "For 5 clusters, the average Silhouette values is equal to 0.44\n"
     ]
    }
   ],
   "source": [
    "for num in range(2,6):\n",
    "    Model = KMeans(num, init='k-means++')\n",
    "    kmeans = Model.fit_predict(X)\n",
    "    print(\"For \"+str(num)+\" clusters, the average Silhouette values is equal to\", round(silhouette_score(X, kmeans),2))"
   ]
  },
  {
   "cell_type": "markdown",
   "metadata": {},
   "source": [
    "From these plots and Silhouette scores, we can conclude the number of clusters should be 2."
   ]
  },
  {
   "cell_type": "code",
   "execution_count": null,
   "metadata": {},
   "outputs": [],
   "source": []
  }
 ],
 "metadata": {
  "kernelspec": {
   "display_name": "Python 3",
   "language": "python",
   "name": "python3"
  },
  "language_info": {
   "codemirror_mode": {
    "name": "ipython",
    "version": 3
   },
   "file_extension": ".py",
   "mimetype": "text/x-python",
   "name": "python",
   "nbconvert_exporter": "python",
   "pygments_lexer": "ipython3",
   "version": "3.8.3"
  }
 },
 "nbformat": 4,
 "nbformat_minor": 4
}
